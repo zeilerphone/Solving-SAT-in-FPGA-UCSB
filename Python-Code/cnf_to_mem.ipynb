{
 "cells": [
  {
   "cell_type": "markdown",
   "metadata": {},
   "source": [
    "Generate the .mem files for the Address Translation Table and Clause Table for a given .cnf file"
   ]
  },
  {
   "cell_type": "code",
   "execution_count": 1,
   "metadata": {},
   "outputs": [],
   "source": [
    "import packing_new as pck\n",
    "\n",
    "variable_table_size = 2048\n",
    "cnf_file = \"f2000.cnf\""
   ]
  },
  {
   "cell_type": "code",
   "execution_count": 2,
   "metadata": {},
   "outputs": [],
   "source": [
    "num_vars, clauses = pck.create_clause_list(cnf_file)\n",
    "att, ct = pck.generate_att_and_ct(pck.generate_clause_membership_list(variable_table_size, clauses))"
   ]
  },
  {
   "cell_type": "code",
   "execution_count": 3,
   "metadata": {},
   "outputs": [],
   "source": [
    "pck.write_list_to_file(att, \"mem/att_entries.mem\")\n",
    "pck.write_list_to_file(ct, \"mem/ct_entry.mem\")"
   ]
  },
  {
   "cell_type": "markdown",
   "metadata": {},
   "source": [
    "Generate random variable assignment and unsat clause .mem files for Unsat Clause Buffer and Variable Table"
   ]
  },
  {
   "cell_type": "code",
   "execution_count": 4,
   "metadata": {},
   "outputs": [],
   "source": [
    "vt, ucb = pck.generate_vt_and_ucb(variable_table_size, clauses, 10)"
   ]
  },
  {
   "cell_type": "code",
   "execution_count": 5,
   "metadata": {},
   "outputs": [],
   "source": [
    "pck.write_list_to_file(vt, \"mem/variable_table.mem\")\n",
    "pck.write_list_to_file(ucb, \"mem/unsat_clause_buffer.mem\")"
   ]
  }
 ],
 "metadata": {
  "kernelspec": {
   "display_name": "tf",
   "language": "python",
   "name": "python3"
  },
  "language_info": {
   "codemirror_mode": {
    "name": "ipython",
    "version": 3
   },
   "file_extension": ".py",
   "mimetype": "text/x-python",
   "name": "python",
   "nbconvert_exporter": "python",
   "pygments_lexer": "ipython3",
   "version": "3.11.5"
  }
 },
 "nbformat": 4,
 "nbformat_minor": 2
}
