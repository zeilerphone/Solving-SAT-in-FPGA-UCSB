{
 "cells": [
  {
   "cell_type": "markdown",
   "metadata": {},
   "source": [
    "Testing packing.py here"
   ]
  },
  {
   "cell_type": "code",
   "execution_count": 1,
   "metadata": {},
   "outputs": [],
   "source": [
    "import packing as pck"
   ]
  },
  {
   "cell_type": "code",
   "execution_count": 2,
   "metadata": {},
   "outputs": [],
   "source": [
    "test_mems = pck.create_literal_memberships(\"f2000.cnf\")"
   ]
  },
  {
   "cell_type": "code",
   "execution_count": 3,
   "metadata": {},
   "outputs": [],
   "source": [
    "test_packs, test_masks = pck.packing_algorithm(test_mems)"
   ]
  },
  {
   "cell_type": "code",
   "execution_count": 4,
   "metadata": {},
   "outputs": [],
   "source": [
    "test_packs, test_masks = pck.packing_algorithm_20_as_max(test_mems)"
   ]
  },
  {
   "cell_type": "code",
   "execution_count": 5,
   "metadata": {},
   "outputs": [],
   "source": [
    "uint32_membership = pck.convert_to_uint32_list(test_packs, test_masks)"
   ]
  },
  {
   "cell_type": "code",
   "execution_count": 8,
   "metadata": {},
   "outputs": [
    {
     "data": {
      "text/plain": [
       "4096"
      ]
     },
     "execution_count": 8,
     "metadata": {},
     "output_type": "execute_result"
    }
   ],
   "source": [
    "len(uint32_membership)"
   ]
  },
  {
   "cell_type": "code",
   "execution_count": 9,
   "metadata": {},
   "outputs": [],
   "source": [
    "def test_normal_case(self):\n",
    "    input_data = [[], [1, 2], [3, 4, 5], [6, 7], [8, 9, 10, 11]]\n",
    "    expected_output = (\n",
    "        [[[4, 2], [8, 9, 10, 11, 1, 2]], [[3, 1], [3, 4, 5, 6, 7]]],\n",
    "        [(0, 0), (4, 5), (2, 3), (8, 9), (0, 3)]\n",
    "    )\n",
    "    self.assertEqual(pck.packing_algorithm(input_data), expected_output)\n",
    "\n",
    "def test_empty_input(self):\n",
    "    input_data = [[]]\n",
    "    expected_output = ([], [(0, 0)])\n",
    "    self.assertEqual(pck.packing_algorithm(input_data), expected_output)\n",
    "\n",
    "def test_single_element(self):\n",
    "    input_data = [[], [1, 2, 3]]\n",
    "    expected_output = ([[[1], [1, 2, 3]]], [(0, 0), (0, 2)])\n",
    "    self.assertEqual(pck.packing_algorithm(input_data), expected_output)\n",
    "\n",
    "def test_max_size_20(self):\n",
    "    input_data = [[], [1]*20, [2, 3], [4, 5]]\n",
    "    expected_output = (\n",
    "        [[[1], [1]*20], [[3, 2], [2, 3, 4, 5]]],\n",
    "        [(0, 0), (0, 19), (22, 23), (20, 21)]\n",
    "    )\n",
    "    self.assertEqual(pck.packing_algorithm(input_data), expected_output)\n",
    "\n",
    "def test_exceeds_max_size(self):\n",
    "    input_data = [[], [1]*21, [2, 3]]\n",
    "    with self.assertRaises(ValueError):\n",
    "        pck.packing_algorithm(input_data)\n",
    "\n",
    "def test_all_elements_packed_separately(self):\n",
    "    input_data = [[], [1]*20, [2]*20, [3]*20]\n",
    "    expected_output = (\n",
    "        [[[1], [1]*20], [[2], [2]*20], [[3], [3]*20]],\n",
    "        [(0, 0), (0, 19), (20, 39), (40, 59)]\n",
    "    )\n",
    "    self.assertEqual(pck.packing_algorithm(input_data), expected_output)"
   ]
  },
  {
   "cell_type": "code",
   "execution_count": 10,
   "metadata": {},
   "outputs": [],
   "source": [
    "def test_normal_case(self):\n",
    "    input_data = [[], [1, 2], [3, 4, 5], [6, 7], [8, 9, 10, 11]]\n",
    "    expected_output = (\n",
    "        [[[4, 2], [8, 9, 10, 11, 1, 2]], [[3, 1], [3, 4, 5, 6, 7]]],\n",
    "        [(0, 0), (4, 5), (2, 3), (8, 9), (0, 3)]\n",
    "    )\n",
    "    self.assertEqual(pck.packing_algorithm_20_as_max(input_data), expected_output)\n",
    "\n",
    "def test_empty_input(self):\n",
    "    input_data = [[]]\n",
    "    expected_output = ([], [(0, 0)])\n",
    "    self.assertEqual(pck.packing_algorithm_20_as_max(input_data), expected_output)\n",
    "\n",
    "def test_single_element(self):\n",
    "    input_data = [[], [1, 2, 3]]\n",
    "    expected_output = ([[[1], [1, 2, 3]]], [(0, 0), (0, 2)])\n",
    "    self.assertEqual(pck.packing_algorithm_20_as_max(input_data), expected_output)\n",
    "\n",
    "def test_max_size_20(self):\n",
    "    input_data = [[], [1]*20, [2, 3], [4, 5]]\n",
    "    expected_output = (\n",
    "        [[[1], [1]*20], [[3, 2], [2, 3, 4, 5]]],\n",
    "        [(0, 0), (0, 19), (22, 23), (20, 21)]\n",
    "    )\n",
    "    self.assertEqual(pck.packing_algorithm_20_as_max(input_data), expected_output)\n",
    "\n",
    "def test_exceeds_max_size(self):\n",
    "    input_data = [[], [1]*21, [2, 3]]\n",
    "    with self.assertRaises(ValueError):\n",
    "        pck.packing_algorithm_20_as_max(input_data)\n",
    "\n",
    "def test_all_elements_packed_separately(self):\n",
    "    input_data = [[], [1]*20, [2]*20, [3]*20]\n",
    "    expected_output = (\n",
    "        [[[1], [1]*20], [[2], [2]*20], [[3], [3]*20]],\n",
    "        [(0, 0), (0, 19), (20, 39), (40, 59)]\n",
    "    )\n",
    "    self.assertEqual(pck.packing_algorithm_20_as_max(input_data), expected_output)"
   ]
  }
 ],
 "metadata": {
  "kernelspec": {
   "display_name": "tf",
   "language": "python",
   "name": "python3"
  },
  "language_info": {
   "codemirror_mode": {
    "name": "ipython",
    "version": 3
   },
   "file_extension": ".py",
   "mimetype": "text/x-python",
   "name": "python",
   "nbconvert_exporter": "python",
   "pygments_lexer": "ipython3",
   "version": "3.11.5"
  }
 },
 "nbformat": 4,
 "nbformat_minor": 2
}
